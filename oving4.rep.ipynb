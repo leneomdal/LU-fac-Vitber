{
 "cells": [
  {
   "cell_type": "markdown",
   "metadata": {},
   "source": [
    "# TMA4320 - LU-faktorisering med pivotering\n",
    "\n",
    "Python-program for å gjøre LU-faktorisering med pivotering.\n",
    "$$\n",
    "    PA = LU\n",
    "$$\n",
    "der $P$ er en permutasjonsmatrise, $L$ er en nedretriangulær matrise med 1'ere på diagonalen, og $U$ er en øvre-triangular matrise. Med *representasjon av matriser* tenker vi oss følgende: Permutasjonsmatrisen $P$ er representert av en vektor $\\mathtt{P}$ slik at rad $k$ i matrisen $P$ er enhetsvektor $e_{\\mathtt{P}_k}$. Illustrerer med et eksempel\n",
    "$$\n",
    "\\mathtt{P}=\n",
    "\\left[\n",
    "\\begin{array}{r} 3 \\\\ 1 \\\\ 2 \\end{array}\n",
    "\\right]\\quad\\Rightarrow\\quad\n",
    "P=\\left[\n",
    "\\begin{array}{ccc}\n",
    "0 & 0 & 1 \\\\ 1 & 0 & 0 \\\\ 0 & 1 & 0\n",
    "\\end{array}\n",
    "\\right]\n",
    "$$\n",
    "\n",
    "Antar at Python-funksjonen tar et todimensjonalt array $\\mathtt{A}$ som input og returnerer\n",
    "en *overskrevet* $\\mathtt{A}$ som inneholder $L$ og $U$ i følgende forstand ved retur:\n",
    "$$\n",
    "\\begin{array}{ll}\n",
    "\\mathtt{A}[\\mathtt{P}[i],j] = L_{ij} & \\text{for}\\ i<j \\\\\n",
    "\\mathtt{A}[\\mathtt{P}[i],j] = U_{ij} & \\text{for}\\ i\\geq j\n",
    "\\end{array}\n",
    "$$\n",
    "At $L$ har 1 på diagonalen er alltid tilfelle så diagonalen til $L$ trenger ikke å lagres. De øvrige elementene i $L$ og $U$ er null og trenger ikke å lagres. \n",
    "\n",
    "**Kommentar:** I praksis fins selvsagt ferdige rutiner både i Python-biblioteker og andre steder for å løse ligningsystemer på en supereffektiv måte. I praksis er det også ofte slik at mange elementer i koeffisientmatrisen $A$ er null og det kan utnyttes på ulike vis. Løseren under er ganske generell. Uansett om programvaren her er hyllevare så er det en god erfaring å én gang ha skrevet et slikt program selv, slik at man forstår hvordan det fungerer, hvilke feil som kan oppstå osv, og det blir enklere å skjønne blant annet feilanalyse.\n"
   ]
  },
  {
   "cell_type": "code",
   "execution_count": 45,
   "metadata": {},
   "outputs": [],
   "source": [
    "import numpy as np"
   ]
  },
  {
   "cell_type": "code",
   "execution_count": 46,
   "metadata": {},
   "outputs": [],
   "source": [
    "def myLU(A):\n",
    "    LU = A.copy()\n",
    "    n, m = A.shape\n",
    "    P = list(range(n))\n",
    "\n",
    "    \n",
    "    for k in range (n-1):\n",
    "        pivot = np.argmax(abs(LU[P[k:], k]))\n",
    "        pivot += k\n",
    "        \n",
    "        P[k], P[pivot] = P[pivot], P[k]\n",
    "        \n",
    "        mults = LU[P[k+1:], k]/LU[P[k], k]\n",
    "        LU[P[k+1:], k+1:] =  LU[P[k+1:], k+1:] - np. outer(mults, LU[P[k], k+1:])\n",
    "        LU[P[k+1:], k] = mults\n",
    "        \n",
    "    return LU, P\n",
    "\n",
    "    "
   ]
  },
  {
   "cell_type": "code",
   "execution_count": 47,
   "metadata": {},
   "outputs": [],
   "source": [
    "def forward_subs(LU, P, b):\n",
    "    n, m = LU.shape\n",
    "    pb = b[P]\n",
    "    c = np. zeros(n)\n",
    "    c[0] = pb[0]\n",
    "    for k in range(1,n):\n",
    "        c[k] = pb[k] - LU[P[k],0:k] @ c[0:k]\n",
    "    return c\n",
    "        \n",
    "    "
   ]
  },
  {
   "cell_type": "code",
   "execution_count": 48,
   "metadata": {},
   "outputs": [],
   "source": [
    "def backward_subs(LU, P, c):\n",
    "    n, m = LU.shape\n",
    "    x = np.zeros(n)\n",
    "    \n",
    "    x[n-1] = c[n-1]/LU[P[n-1], n-1]\n",
    "    \n",
    "    for k in range(n-1, 0, -1):\n",
    "        x[k-1] = (c[k-1] -(LU[P[k-1],k: ]) @ x[k:])/LU[P[k-1], k-1]\n",
    "    return x\n",
    "                "
   ]
  },
  {
   "cell_type": "code",
   "execution_count": 49,
   "metadata": {},
   "outputs": [
    {
     "name": "stdout",
     "output_type": "stream",
     "text": [
      "A =\n",
      " [[ 0.305   0.5399  0.9831  0.4039  0.1962]\n",
      " [ 0.2563 -0.1986  0.7903  0.6807  0.5544]\n",
      " [ 0.7746  0.6253 -0.1458  0.1704  0.5167]\n",
      " [ 0.4406  0.9256  0.4361 -0.2254  0.7784]\n",
      " [ 0.4568  0.2108  0.6006  0.3677 -0.8922]]\n",
      "\n",
      "\n",
      " b = \n",
      " [ 0.9876 -1.231   0.0987 -0.5544  0.7712]\n",
      "\n",
      "\n",
      " LU = \n",
      " [[ 0.39375161  0.5153099   0.64002748  0.2501014  -0.72295451]\n",
      " [ 0.33088045 -0.71149847  1.20783317  0.3949841   0.72815225]\n",
      " [ 0.7746      0.6253     -0.1458      0.1704      0.5167    ]\n",
      " [ 0.56880971  0.56992329  0.51903246 -0.32232517  0.48449602]\n",
      " [ 0.58972373 -0.27715001  0.68753831 -0.37460027 -1.83408369]]\n",
      "\n",
      "\n",
      " P = \n",
      " [2, 3, 1, 0, 4]\n",
      "\n",
      "\n",
      " c = \n",
      " [ 0.0987     -0.61054152 -1.69805726  2.35015812  2.59163195]\n",
      "x[4] -1.4130390910442732\n"
     ]
    }
   ],
   "source": [
    "def getAb():\n",
    "    A=np.array([[0.3050, 0.5399, 0.9831, 0.4039, 0.1962],\n",
    "                [0.2563, -0.1986, 0.7903, 0.6807, 0.5544],\n",
    "                [0.7746, 0.6253, -0.1458, 0.1704,  0.5167],\n",
    "                [0.4406, 0.9256, 0.4361, -0.2254, 0.7784],\n",
    "                [0.4568, 0.2108, 0.6006, 0.3677, -0.8922]])\n",
    "    b=np.array([0.9876,-1.231,0.0987,-0.5544,0.7712])\n",
    "    return A,b\n",
    "    \n",
    "A, b = getAb()\n",
    "\n",
    "print('A =\\n', A)\n",
    "print(\"\\n\\n b = \\n\", b)\n",
    "\n",
    "LU, p = myLU(A)\n",
    "\n",
    "print(\"\\n\\n LU = \\n\", LU)\n",
    "print(\"\\n\\n P = \\n\", p)\n",
    "\n",
    "c = forward_subs(LU, p, b)\n",
    "\n",
    "x = backward_subs(LU, p, c)\n",
    "\n",
    "print(\"\\n\\n c = \\n\", c)\n",
    "\n",
    "print( \"x[4]\", x[4])"
   ]
  }
 ],
 "metadata": {
  "kernelspec": {
   "display_name": "Python 3",
   "language": "python",
   "name": "python3"
  },
  "language_info": {
   "codemirror_mode": {
    "name": "ipython",
    "version": 3
   },
   "file_extension": ".py",
   "mimetype": "text/x-python",
   "name": "python",
   "nbconvert_exporter": "python",
   "pygments_lexer": "ipython3",
   "version": "3.7.1"
  }
 },
 "nbformat": 4,
 "nbformat_minor": 2
}
